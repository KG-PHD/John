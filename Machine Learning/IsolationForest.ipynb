{
 "cells": [
  {
   "cell_type": "code",
   "execution_count": 23,
   "metadata": {},
   "outputs": [],
   "source": [
    "import numpy as np\n",
    "from sklearn.model_selection import LeaveOneGroupOut,GridSearchCV\n",
    "from sklearn.metrics import roc_auc_score, accuracy_score\n",
    "from sklearn import svm\n",
    "from sklearn.linear_model import LogisticRegression\n",
    "from sklearn.neighbors import KNeighborsClassifier, NearestNeighbors\n",
    "from sklearn.ensemble import RandomForestClassifier,IsolationForest\n",
    "from sklearn.neural_network import MLPClassifier\n",
    "import joblib\n"
   ]
  },
  {
   "cell_type": "code",
   "execution_count": 24,
   "metadata": {},
   "outputs": [],
   "source": [
    "nJobs = 12  # Number of cores to use\n",
    "\n",
    "# Load feature matrices, labels, and groups (denoting which labeled time\n",
    "# segment each row of the feature matrix comes from)\n",
    "\n",
    "featuresAll = np.loadtxt('JohnAll2.csv',delimiter=',')\n",
    "featuresAcc = np.loadtxt('JohnAcc2.csv',delimiter=',')\n",
    "featuresEda = np.loadtxt('JohnEda2.csv',delimiter=',')\n",
    "labels = np.loadtxt('JohnLabels2.csv',delimiter=',')\n",
    "groups = np.loadtxt('JohnGroups2.csv',delimiter=',')\n",
    "NickAll = np.loadtxt('NickAll3.csv',delimiter=',')\n",
    "NickAcc = np.loadtxt('NickAcc3.csv',delimiter=',')\n",
    "NickEda = np.loadtxt('NickEda3.csv',delimiter=',')\n",
    "NickLabels = np.loadtxt('NickLabels3.csv',delimiter=',')\n",
    "NickGroups = np.loadtxt('NickGroups3.csv',delimiter=',')\n",
    "\n",
    "# Leave-one-group-out cross-validation\n",
    "cv = LeaveOneGroupOut()"
   ]
  },
  {
   "cell_type": "code",
   "execution_count": 25,
   "metadata": {},
   "outputs": [],
   "source": [
    "# Isolation Forest\n",
    "# Parameter tuning by grid search\n",
    "IFparameters = {'n_estimators': 10*np.arange(1,21)}\n",
    "IFgsAll = GridSearchCV(IsolationForest(),\n",
    "                     IFparameters,'roc_auc',n_jobs=nJobs,cv=cv,refit=True,\n",
    "                     verbose=1)\n",
    "IFgsAll.fit(featuresAll,1-labels,groups)\n",
    "bestNumTreesAll = IFgsAll.best_params_['n_estimators']\n",
    "\n",
    "IFgsAcc = GridSearchCV(IsolationForest(),\n",
    "                     IFparameters,'roc_auc',n_jobs=nJobs,cv=cv,refit=True,\n",
    "                     verbose=1)\n",
    "IFgsAcc.fit(featuresAcc,1-labels,groups)\n",
    "bestNumTreesAcc = IFgsAcc.best_params_['n_estimators']\n",
    "\n",
    "IFgsEda = GridSearchCV(IsolationForest(),\n",
    "                     IFparameters,'roc_auc',n_jobs=nJobs,cv=cv,refit=True,\n",
    "                     verbose=1)\n",
    "IFgsEda.fit(featuresEda,1-labels,groups)\n",
    "bestNumTreesEda = IFgsEda.best_params_['n_estimators']"
   ]
  },
  {
   "cell_type": "code",
   "execution_count": 27,
   "metadata": {},
   "outputs": [
    {
     "name": "stdout",
     "output_type": "stream",
     "text": [
      "IF AUC ALL: 0.848566 ({'n_estimators': 80})\n",
      "IF AUC ALL: 0.828674 ({'n_estimators': 130})\n",
      "IF AUC ALL: 0.638183 ({'n_estimators': 130})\n"
     ]
    }
   ],
   "source": [
    "IFpredAll = np.zeros(np.shape(labels))\n",
    "IFpredAcc = np.zeros(np.shape(labels))\n",
    "IFpredEda = np.zeros(np.shape(labels))\n",
    "IFpredNickAll = np.zeros(np.shape(NickLabels))\n",
    "IFpredNickAcc = np.zeros(np.shape(NickLabels))\n",
    "IFpredNickEda = np.zeros(np.shape(NickLabels))\n",
    "\n",
    "#training the model using dataset\n",
    "for train, test in cv.split(featuresAll,labels,groups):\n",
    "    \n",
    "    IFAll = IsolationForest(n_estimators=bestNumTreesAll)\n",
    "    IFAll.fit(featuresAll[train,:])\n",
    "    IFpredAll[test] = IFAll.decision_function(featuresAll[test,:])\n",
    "    \n",
    "    IFAcc = IsolationForest(n_estimators=bestNumTreesAcc)\n",
    "    IFAcc.fit(featuresAcc[train,:])\n",
    "    IFpredAcc[test] = IFAcc.decision_function(featuresAcc[test,:])\n",
    "\n",
    "    IFEda = IsolationForest(n_estimators=bestNumTreesEda)\n",
    "    IFEda.fit(featuresEda[train,:])\n",
    "    IFpredEda[test] = IFEda.decision_function(featuresEda[test,:])\n",
    "\n",
    "\n",
    "#accuracy scores of the model\n",
    "print('IF AUC ALL: %f (%s)' % (roc_auc_score(1-labels,IFpredAll),IFgsAll.best_params_))\n",
    "print('IF AUC ALL: %f (%s)' % (roc_auc_score(1-labels,IFpredAcc),IFgsAcc.best_params_))\n",
    "print('IF AUC ALL: %f (%s)' % (roc_auc_score(1-labels,IFpredEda),IFgsEda.best_params_))"
   ]
  },
  {
   "cell_type": "code",
   "execution_count": 28,
   "metadata": {},
   "outputs": [
    {
     "name": "stdout",
     "output_type": "stream",
     "text": [
      "IF AUC ALL PREDICTION: 0.816378 ({'n_estimators': 80})\n",
      "IF AUC ACC PREDICTION: 0.857826 ({'n_estimators': 130})\n",
      "IF AUC EDA PREDICTION: 0.476188 ({'n_estimators': 130})\n"
     ]
    }
   ],
   "source": [
    "#testing the model with another dataset\n",
    "IFAll = IsolationForest(n_estimators=bestNumTreesAll)\n",
    "IFAll.fit(featuresAll)\n",
    "IFNickPredAll = IFAll.decision_function(NickAll)\n",
    "\n",
    "IFAcc = IsolationForest(n_estimators=bestNumTreesAcc)\n",
    "IFAcc.fit(featuresAcc)\n",
    "IFNickPredAcc = IFAcc.decision_function(NickAcc)\n",
    "\n",
    "IFEda = IsolationForest(n_estimators=bestNumTreesEda)\n",
    "IFEda.fit(featuresEda)\n",
    "IFNickPredEda = IFEda.decision_function(NickEda)\n",
    "\n",
    "#accuracy of prediction with current model\n",
    "print('IF AUC ALL PREDICTION: %f (%s)' % (roc_auc_score(1-NickLabels,IFNickPredAll),\n",
    "                            IFgsAll.best_params_))\n",
    "print('IF AUC ACC PREDICTION: %f (%s)' % (roc_auc_score(1-NickLabels,IFNickPredAcc),\n",
    "                            IFgsAcc.best_params_))\n",
    "print('IF AUC EDA PREDICTION: %f (%s)' % (roc_auc_score(1-NickLabels,IFNickPredEda),\n",
    "                            IFgsEda.best_params_))"
   ]
  },
  {
   "cell_type": "code",
   "execution_count": 29,
   "metadata": {
    "scrolled": true
   },
   "outputs": [
    {
     "name": "stdout",
     "output_type": "stream",
     "text": [
      "Fitting 8 folds for each of 20 candidates, totalling 160 fits\n"
     ]
    },
    {
     "name": "stderr",
     "output_type": "stream",
     "text": [
      "D:\\Engineering\\PROJECTMARS\\envs\\lib\\site-packages\\sklearn\\utils\\validation.py:71: FutureWarning: Pass scoring=roc_auc as keyword args. From version 0.25 passing these as positional arguments will result in an error\n",
      "  FutureWarning)\n",
      "D:\\Engineering\\PROJECTMARS\\envs\\lib\\site-packages\\sklearn\\utils\\validation.py:71: FutureWarning: Pass groups=[0. 0. 0. ... 7. 7. 7.] as keyword args. From version 0.25 passing these as positional arguments will result in an error\n",
      "  FutureWarning)\n",
      "[Parallel(n_jobs=12)]: Using backend LokyBackend with 12 concurrent workers.\n",
      "[Parallel(n_jobs=12)]: Done  28 tasks      | elapsed:    1.4s\n",
      "[Parallel(n_jobs=12)]: Done 160 out of 160 | elapsed:   17.2s finished\n",
      "D:\\Engineering\\PROJECTMARS\\envs\\lib\\site-packages\\sklearn\\utils\\validation.py:71: FutureWarning: Pass scoring=roc_auc as keyword args. From version 0.25 passing these as positional arguments will result in an error\n",
      "  FutureWarning)\n",
      "D:\\Engineering\\PROJECTMARS\\envs\\lib\\site-packages\\sklearn\\utils\\validation.py:71: FutureWarning: Pass groups=[0. 0. 0. ... 7. 7. 7.] as keyword args. From version 0.25 passing these as positional arguments will result in an error\n",
      "  FutureWarning)\n",
      "[Parallel(n_jobs=12)]: Using backend LokyBackend with 12 concurrent workers.\n"
     ]
    },
    {
     "name": "stdout",
     "output_type": "stream",
     "text": [
      "Fitting 8 folds for each of 20 candidates, totalling 160 fits\n"
     ]
    },
    {
     "name": "stderr",
     "output_type": "stream",
     "text": [
      "[Parallel(n_jobs=12)]: Done  28 tasks      | elapsed:    1.3s\n",
      "[Parallel(n_jobs=12)]: Done 160 out of 160 | elapsed:   16.9s finished\n",
      "D:\\Engineering\\PROJECTMARS\\envs\\lib\\site-packages\\sklearn\\utils\\validation.py:71: FutureWarning: Pass scoring=roc_auc as keyword args. From version 0.25 passing these as positional arguments will result in an error\n",
      "  FutureWarning)\n",
      "D:\\Engineering\\PROJECTMARS\\envs\\lib\\site-packages\\sklearn\\utils\\validation.py:71: FutureWarning: Pass groups=[0. 0. 0. ... 7. 7. 7.] as keyword args. From version 0.25 passing these as positional arguments will result in an error\n",
      "  FutureWarning)\n",
      "[Parallel(n_jobs=12)]: Using backend LokyBackend with 12 concurrent workers.\n"
     ]
    },
    {
     "name": "stdout",
     "output_type": "stream",
     "text": [
      "Fitting 8 folds for each of 20 candidates, totalling 160 fits\n"
     ]
    },
    {
     "name": "stderr",
     "output_type": "stream",
     "text": [
      "[Parallel(n_jobs=12)]: Done  28 tasks      | elapsed:    0.5s\n",
      "[Parallel(n_jobs=12)]: Done 137 out of 160 | elapsed:    7.5s remaining:    1.2s\n",
      "[Parallel(n_jobs=12)]: Done 160 out of 160 | elapsed:    9.0s finished\n"
     ]
    },
    {
     "name": "stdout",
     "output_type": "stream",
     "text": [
      "IF AUC ALL: 0.860900 ({'n_estimators': 190})\n",
      "IF AUC ACC: 0.852808 ({'n_estimators': 40})\n",
      "IF AUC EDA: 0.581001 ({'n_estimators': 40})\n"
     ]
    },
    {
     "name": "stderr",
     "output_type": "stream",
     "text": [
      "D:\\Engineering\\PROJECTMARS\\envs\\lib\\site-packages\\sklearn\\utils\\validation.py:71: FutureWarning: Pass scoring=roc_auc as keyword args. From version 0.25 passing these as positional arguments will result in an error\n",
      "  FutureWarning)\n"
     ]
    },
    {
     "name": "stdout",
     "output_type": "stream",
     "text": [
      "IF AUC ALL PREDICTION: 0.851119 ({'n_estimators': 190})\n",
      "IF AUC ACC PREDICTION: 0.815140 ({'n_estimators': 40})\n",
      "IF AUC EDA PREDICTION: 0.679289 ({'n_estimators': 40})\n"
     ]
    }
   ],
   "source": [
    "#training the model with the other dataset and doing the same\n",
    "IFgsAll2 = GridSearchCV(IsolationForest(),\n",
    "                     IFparameters,'roc_auc',n_jobs=nJobs,cv=cv,refit=True,\n",
    "                     verbose=1)\n",
    "IFgsAll2.fit(NickAll,1-NickLabels,NickGroups)\n",
    "bestNumTreesAll2 = IFgsAll2.best_params_['n_estimators']\n",
    "\n",
    "IFgsAcc2 = GridSearchCV(IsolationForest(),\n",
    "                     IFparameters,'roc_auc',n_jobs=nJobs,cv=cv,refit=True,\n",
    "                     verbose=1)\n",
    "IFgsAcc2.fit(NickAcc,1-NickLabels,NickGroups)\n",
    "bestNumTreesAcc2 = IFgsAcc2.best_params_['n_estimators']\n",
    "\n",
    "IFgsEda2 = GridSearchCV(IsolationForest(),\n",
    "                     IFparameters,'roc_auc',n_jobs=nJobs,cv=cv,refit=True,\n",
    "                     verbose=1)\n",
    "IFgsEda2.fit(NickEda,1-NickLabels,NickGroups)\n",
    "bestNumTreesEda2 = IFgsEda2.best_params_['n_estimators']\n",
    "\n",
    "cv = LeaveOneGroupOut()\n",
    "IFpredAll2 = np.zeros(np.shape(NickLabels))\n",
    "IFpredAcc2 = np.zeros(np.shape(NickLabels))\n",
    "IFpredEda2 = np.zeros(np.shape(NickLabels))\n",
    "IFpredNickAll2 = np.zeros(np.shape(labels))\n",
    "IFpredNickAcc2 = np.zeros(np.shape(labels))\n",
    "IFpredNickEda2 = np.zeros(np.shape(labels))\n",
    "\n",
    "for train, test in cv.split(NickAll,NickLabels,NickGroups):\n",
    "    IFAll2 = IsolationForest(n_estimators=bestNumTreesAll2)\n",
    "    IFAll2.fit(NickAll[train,:])\n",
    "    IFpredAll2[test] = IFAll2.decision_function(NickAll[test,:])\n",
    "\n",
    "    IFAcc2 = IsolationForest(n_estimators=bestNumTreesAcc2)\n",
    "    IFAcc2.fit(NickAcc[train,:])\n",
    "    IFpredAcc2[test] = IFAcc2.decision_function(NickAcc[test,:])\n",
    "\n",
    "    IFEda2 = IsolationForest(n_estimators=bestNumTreesEda2)\n",
    "    IFEda2.fit(NickEda[train,:])\n",
    "    IFpredEda2[test] = IFEda2.decision_function(NickEda[test,:])\n",
    "\n",
    "print('IF AUC ALL: %f (%s)' % (roc_auc_score(1-NickLabels,IFpredAll2),IFgsAll2.best_params_))\n",
    "print('IF AUC ACC: %f (%s)' % (roc_auc_score(1-NickLabels,IFpredAcc2),IFgsAcc2.best_params_))\n",
    "print('IF AUC EDA: %f (%s)' % (roc_auc_score(1-NickLabels,IFpredEda2),IFgsEda2.best_params_))\n",
    "\n",
    "IFGsAll2 = GridSearchCV(IsolationForest(),\n",
    "                        IFparameters,'roc_auc',n_jobs=12,cv=cv,refit=False,\n",
    "                        verbose=1)\n",
    "IFGsAcc2 = GridSearchCV(IsolationForest(),\n",
    "                        IFparameters,'roc_auc',n_jobs=12,cv=cv,refit=False,\n",
    "                        verbose=1)\n",
    "IFGsEda2 = GridSearchCV(IsolationForest(),\n",
    "                        IFparameters,'roc_auc',n_jobs=12,cv=cv,refit=False,\n",
    "                        verbose=1)\n",
    "\n",
    "\n",
    "# Fit classifier with best parameters from grid search CV to entire UTD data\n",
    "# (including excluded test subjects) and test on AWW data\n",
    "IFAll2 = IsolationForest(n_estimators=bestNumTreesAll2)\n",
    "IFAll2.fit(NickAll)\n",
    "IFNickPredAll2 = IFAll2.decision_function(featuresAll)\n",
    "\n",
    "IFAcc2 = IsolationForest(n_estimators=bestNumTreesAcc2)\n",
    "IFAcc2.fit(NickAcc)\n",
    "IFNickPredAcc2 = IFAcc2.decision_function(featuresAcc)\n",
    "\n",
    "IFEda2 = IsolationForest(n_estimators=bestNumTreesEda2)\n",
    "IFEda2.fit(NickEda)\n",
    "IFNickPredEda2 = IFEda2.decision_function(featuresEda)\n",
    "\n",
    "print('IF AUC ALL PREDICTION: %f (%s)' % (roc_auc_score(1-labels,IFNickPredAll2),\n",
    "                            IFgsAll2.best_params_))\n",
    "print('IF AUC ACC PREDICTION: %f (%s)' % (roc_auc_score(1-labels,IFNickPredAcc2),\n",
    "                            IFgsAcc2.best_params_))\n",
    "print('IF AUC EDA PREDICTION: %f (%s)' % (roc_auc_score(1-labels,IFNickPredEda2),\n",
    "                            IFgsEda2.best_params_))"
   ]
  },
  {
   "cell_type": "code",
   "execution_count": null,
   "metadata": {},
   "outputs": [],
   "source": []
  }
 ],
 "metadata": {
  "kernelspec": {
   "display_name": "Python 3",
   "language": "python",
   "name": "python3"
  },
  "language_info": {
   "codemirror_mode": {
    "name": "ipython",
    "version": 3
   },
   "file_extension": ".py",
   "mimetype": "text/x-python",
   "name": "python",
   "nbconvert_exporter": "python",
   "pygments_lexer": "ipython3",
   "version": "3.7.7"
  }
 },
 "nbformat": 4,
 "nbformat_minor": 4
}
