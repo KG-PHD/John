{
 "cells": [
  {
   "cell_type": "code",
   "execution_count": 2,
   "metadata": {},
   "outputs": [],
   "source": [
    "import numpy as np\n",
    "import pandas as pd\n",
    "import matplotlib.pyplot as plt\n",
    "import scipy\n",
    "import biosppy\n",
    "import os\n"
   ]
  },
  {
   "cell_type": "code",
   "execution_count": 3,
   "metadata": {},
   "outputs": [],
   "source": [
    "#set working directory\n",
    "os.chdir(\"D:\\Engineering\\PROJECTMARS\\GSR_Data\")\n",
    "\n",
    "\"\"\"Setting Up Parameters\"\"\"\n",
    "df = pd.read_csv('01_A_GSR.csv')\n",
    "\n",
    "Time = df[' TimeStamp (Shimmer)']\n",
    "XShimmer = df['X (Shimmer)']\n",
    "YShimmer = df['Y (Shimmer)']\n",
    "ZShimmer = df['Z (Shimmer)']\n",
    "PPG = df['PPG']\n",
    "HRV = df['HRV']\n",
    "HeartRate = df['Heart Rate']"
   ]
  },
  {
   "cell_type": "code",
   "execution_count": 30,
   "metadata": {},
   "outputs": [],
   "source": [
    "#Out-Band MA Removal\n",
    "'''As useful PPG band lies between 0.3-5 Hz, so for attenuating\n",
    "frequencies outside this band, 4th order butterworth\n",
    "IIR band pass filter is used. This results in removal of outband\n",
    "noise from the PPG signal i.e. 50Hz AC noise, muscle\n",
    "contraction noise, and any other electrical interference.'''\n",
    "\n",
    "b, a = scipy.signal.iirfilter(4, [2*np.pi*0.3, 2*np.pi*5], btype='band', analog=True, ftype='butter', output='ba', fs=None)\n"
   ]
  },
  {
   "cell_type": "code",
   "execution_count": null,
   "metadata": {},
   "outputs": [],
   "source": [
    "#Singular value Decomposition\n",
    "'''reference signals corresponding to 0.4-5 Hz band are extracted'''\n",
    "\n",
    "#U, s, V = np.linalg.svd()"
   ]
  },
  {
   "cell_type": "code",
   "execution_count": null,
   "metadata": {},
   "outputs": [],
   "source": [
    "#In-Band MA Removal"
   ]
  }
 ],
 "metadata": {
  "kernelspec": {
   "display_name": "Python 3",
   "language": "python",
   "name": "python3"
  },
  "language_info": {
   "codemirror_mode": {
    "name": "ipython",
    "version": 3
   },
   "file_extension": ".py",
   "mimetype": "text/x-python",
   "name": "python",
   "nbconvert_exporter": "python",
   "pygments_lexer": "ipython3",
   "version": "3.7.7"
  }
 },
 "nbformat": 4,
 "nbformat_minor": 4
}
