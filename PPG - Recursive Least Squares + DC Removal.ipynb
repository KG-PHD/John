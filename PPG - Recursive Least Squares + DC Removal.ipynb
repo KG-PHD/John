{
 "cells": [
  {
   "cell_type": "code",
   "execution_count": null,
   "metadata": {},
   "outputs": [],
   "source": [
    "import numpy as np\n",
    "import pandas as pd\n",
    "import matplotlib.pyplot as plt\n",
    "import scipy\n",
    "import biosppy\n",
    "import os\n",
    "import padasip as pa"
   ]
  },
  {
   "cell_type": "code",
   "execution_count": null,
   "metadata": {},
   "outputs": [],
   "source": [
    "#set working directory\n",
    "os.chdir(\"D:\\Engineering\\PROJECTMARS\\GSR_Data\")\n",
    "\n",
    "\"\"\"Setting Up Parameters\"\"\"\n",
    "df = pd.read_csv('01_A_GSR.csv')\n",
    "\n",
    "Time = df[' TimeStamp (Shimmer)']\n",
    "XShimmer = df['X (Shimmer)']\n",
    "YShimmer = df['Y (Shimmer)']\n",
    "ZShimmer = df['Z (Shimmer)']\n",
    "PPG = df['PPG']\n",
    "HRV = df['HRV']\n",
    "HeartRate = df['Heart Rate']"
   ]
  },
  {
   "cell_type": "code",
   "execution_count": null,
   "metadata": {},
   "outputs": [],
   "source": [
    "#DC remover for Raw PPG\n"
   ]
  },
  {
   "cell_type": "code",
   "execution_count": null,
   "metadata": {},
   "outputs": [],
   "source": [
    "#RLS algorithm\n",
    "\n",
    "#pa.filters.FilterRLS()\n",
    "    \n",
    "#http://matousc89.github.io/padasip/sources/filters/rls.html\n",
    "#uses 1 axis of the accelerometer data - parralel to blood flow of finger"
   ]
  }
 ],
 "metadata": {
  "kernelspec": {
   "display_name": "Python 3",
   "language": "python",
   "name": "python3"
  },
  "language_info": {
   "codemirror_mode": {
    "name": "ipython",
    "version": 3
   },
   "file_extension": ".py",
   "mimetype": "text/x-python",
   "name": "python",
   "nbconvert_exporter": "python",
   "pygments_lexer": "ipython3",
   "version": "3.7.7"
  }
 },
 "nbformat": 4,
 "nbformat_minor": 4
}
